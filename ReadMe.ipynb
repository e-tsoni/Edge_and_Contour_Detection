{
 "cells": [
  {
   "cell_type": "code",
   "outputs": [],
   "source": [],
   "metadata": {
    "collapsed": false
   },
   "id": "e67cfbfee13bbaee"
  },
  {
   "cell_type": "markdown",
   "source": [
    "![Requirements](imgs/UML/Requirements.jpg) \n",
    "![Requirements.jpg](attachment:imgs/UML/Requirements.jpg)\n"
   ],
   "metadata": {
    "collapsed": false
   },
   "id": "b04aa40abb1b40b6"
  },
  {
   "cell_type": "markdown",
   "source": [
    "## Requirements / Main Functionality  \n",
    "\n",
    "- The user can upload a photo.\n",
    "- The user can choose between different parameters for edge detection, contour detection and object counting.  \n",
    "- The app checks and print the photo's properties.\n",
    "- The app find the edges and saves the edged picture in the disc.\n",
    "- The app shows contours of objects in user's screen.\n",
    "- The app counts the objects in the picture (based on the input parameters)."
   ],
   "metadata": {
    "collapsed": false
   },
   "id": "17172dcfaaf23cf6"
  },
  {
   "cell_type": "markdown",
   "source": [
    "## User Input\n",
    "\n",
    "Dictionaries:\n",
    "- parameters_edge{}\n",
    "- parameters_contour{}\n"
   ],
   "metadata": {
    "collapsed": false
   },
   "id": "4e77c8aa8c086212"
  },
  {
   "cell_type": "markdown",
   "source": [
    "## How to use:\n",
    "\n",
    "In the \"edge_and_contour_detection.py\":\n",
    "1. give the right parameters (dictionaries).\n",
    "2. run the script."
   ],
   "metadata": {
    "collapsed": false
   },
   "id": "87e5e80cc5938bd7"
  },
  {
   "cell_type": "markdown",
   "source": [
    "## Packages\n",
    "\n",
    "- Image.__version__ == 10.2.0\n",
    "- cv2.__version__ == 4.8.1\n",
    "- np.__version__ == 1.26.0\n"
   ],
   "metadata": {
    "collapsed": false
   },
   "id": "5b51b450caa24646"
  },
  {
   "cell_type": "markdown",
   "source": [
    "![Use cases](imgs/UML/UC_edges_and_contours.png) \n"
   ],
   "metadata": {
    "collapsed": false
   },
   "id": "e833308ab8e207da"
  },
  {
   "cell_type": "code",
   "outputs": [],
   "source": [],
   "metadata": {
    "collapsed": false,
    "ExecuteTime": {
     "end_time": "2024-02-14T19:23:24.233256200Z",
     "start_time": "2024-02-14T19:23:24.230274600Z"
    }
   },
   "id": "eee1e0dc91c1fae2",
   "execution_count": null
  }
 ],
 "metadata": {
  "kernelspec": {
   "display_name": "Python 3",
   "language": "python",
   "name": "python3"
  },
  "language_info": {
   "codemirror_mode": {
    "name": "ipython",
    "version": 2
   },
   "file_extension": ".py",
   "mimetype": "text/x-python",
   "name": "python",
   "nbconvert_exporter": "python",
   "pygments_lexer": "ipython2",
   "version": "2.7.6"
  }
 },
 "nbformat": 4,
 "nbformat_minor": 5
}
